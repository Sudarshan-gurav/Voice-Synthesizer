{
 "cells": [
  {
   "cell_type": "code",
   "execution_count": 66,
   "metadata": {
    "collapsed": false
   },
   "outputs": [
    {
     "name": "stdout",
     "output_type": "stream",
     "text": [
      "['ID', 'SEX', 'SUBSET', 'MINUTES', 'NAME']\n"
     ]
    }
   ],
   "source": [
    "import sys\n",
    "# sys.path.append(\"..\")\n",
    "import csv\n",
    "\n",
    "data = []\n",
    "with open('../data/SPEAKERS.TXT','r') as csvfile:\n",
    "    line = csv.reader(csvfile,quotechar = '|',delimiter='|')\n",
    "    for row in line:\n",
    "        cleaned = []\n",
    "        for item in row:\n",
    "            cleaned.append(item.strip())\n",
    "        data.append(cleaned)\n",
    "header = data[0]\n",
    "print header\n",
    "data = data[1:]\n",
    "current_data = \"dev-clean\"\n",
    "current_dataset = []\n",
    "\n",
    "output_file = open('../INFO.TXT','w')\n",
    "header_flag = False\n",
    "import os\n",
    "data_set = []\n",
    "for row in data:\n",
    "    if row[header.index(\"SUBSET\")] == current_data: #dev-clean\n",
    "        id = row[header.index(\"ID\")]\n",
    "        directories = os.listdir(\"../data/\"+current_data+\"/\"+id)\n",
    "        for chapter in directories:\n",
    "            content = open(\"../data/\"+current_data+\"/\"+id+\"/\"+chapter+\"/\"+id+\"-\"+chapter+\".trans.txt\").read().split('\\n')\n",
    "            files = os.listdir(\"../data/\"+current_data+\"/\"+id+\"/\"+chapter)\n",
    "            assert(len(files) == len(content)) #Checking all data available nicely..\n",
    "            ct = 0\n",
    "            for file in files:\n",
    "                if file.find(\"txt\") == -1:\n",
    "                    element = {}\n",
    "                    element['id'] = id\n",
    "                    element['chapter'] = chapter\n",
    "                    element['file'] = file\n",
    "                    element['sex'] = row[header.index(\"SEX\")]\n",
    "                    element['name'] = row[header.index(\"NAME\")]\n",
    "                    element['content'] = ' '.join(content[ct].split(' ')[1:])\n",
    "                    ct += 1\n",
    "                    output = csv.DictWriter(output_file, element.keys(),quotechar='|',delimiter='|')\n",
    "                    if header_flag == False:\n",
    "                        header_flag = True\n",
    "                        output.writeheader()\n",
    "                    output.writerow(element)"
   ]
  }
 ],
 "metadata": {
  "anaconda-cloud": {},
  "kernelspec": {
   "display_name": "Python [default]",
   "language": "python",
   "name": "python2"
  },
  "language_info": {
   "codemirror_mode": {
    "name": "ipython",
    "version": 2
   },
   "file_extension": ".py",
   "mimetype": "text/x-python",
   "name": "python",
   "nbconvert_exporter": "python",
   "pygments_lexer": "ipython2",
   "version": "2.7.13"
  }
 },
 "nbformat": 4,
 "nbformat_minor": 2
}
