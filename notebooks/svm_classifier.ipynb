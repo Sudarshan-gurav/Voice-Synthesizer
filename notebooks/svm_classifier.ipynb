{
 "cells": [
  {
   "cell_type": "code",
   "execution_count": 93,
   "metadata": {
    "collapsed": false
   },
   "outputs": [],
   "source": [
    "import os\n",
    "import sys\n",
    "\n",
    "sys.path.append('..')\n",
    "\n",
    "import numpy as np\n",
    "import pandas as pd\n",
    "import matplotlib as plt\n",
    "import sklearn\n",
    "%matplotlib inline\n",
    "from IPython.core.interactiveshell import InteractiveShell\n",
    "InteractiveShell.ast_node_interactivity = \"all\"\n",
    "from numpy import zeros\n",
    "from sklearn.preprocessing import LabelEncoder\n",
    "from sklearn import preprocessing\n",
    "from sklearn.model_selection import train_test_split\n",
    "from sklearn import datasets\n",
    "from sklearn.multiclass import OneVsRestClassifier\n",
    "from sklearn.svm import LinearSVC\n",
    "from sklearn.preprocessing import MultiLabelBinarizer\n",
    "from sklearn.metrics import accuracy_score\n",
    "le = LabelEncoder()\n",
    "\n",
    "df = pd.read_hdf(\"../data_extract/features_dataset_2b.h5\")\n",
    "df['fid'] = le.fit_transform(df['fname'])"
   ]
  },
  {
   "cell_type": "code",
   "execution_count": 94,
   "metadata": {
    "collapsed": false
   },
   "outputs": [],
   "source": [
    "chlist = [\"chroma{}\".format(i) for i in range(12)]\n",
    "log_chroma_list = [\"lc{}\".format(i) for i in range(12)]\n",
    "df[log_chroma_list] = np.log(df[chlist])\n",
    "lclist = [\"mfcc{}\".format(i) for i in range(14)] + log_chroma_list"
   ]
  },
  {
   "cell_type": "code",
   "execution_count": 95,
   "metadata": {
    "collapsed": false,
    "scrolled": true
   },
   "outputs": [],
   "source": [
    "NUM_FILES = max(df['fid'])+1\n",
    "ndf_features = list()\n",
    "ndf_labels = list()\n",
    "for i in range(NUM_FILES):\n",
    "    ndf_features.append(df[lclist].loc[df['fid']==i])\n",
    "    ndf_labels.append(df[['id']].loc[df['fid']==i])"
   ]
  },
  {
   "cell_type": "code",
   "execution_count": null,
   "metadata": {
    "collapsed": false
   },
   "outputs": [],
   "source": [
    "#ndf_labels[1100]"
   ]
  },
  {
   "cell_type": "code",
   "execution_count": null,
   "metadata": {
    "collapsed": false
   },
   "outputs": [],
   "source": [
    "f_train, f_test, _, _ = train_test_split(range(NUM_FILES), range(NUM_FILES), test_size=0.3, random_state=42)\n",
    "\n",
    "features_train = ndf_features[f_train[0]]\n",
    "labels_train = ndf_labels[f_train[0]]\n",
    "for i in range(1,len(f_train)-1):\n",
    "    features_train = features_train.append(ndf_features[f_train[i]])\n",
    "    labels_train = labels_train.append(ndf_labels[f_train[i]])\n",
    "\n",
    "scaler = preprocessing.StandardScaler().fit(features_train)\n",
    "features_train = scaler.transform(features_train)"
   ]
  },
  {
   "cell_type": "code",
   "execution_count": 85,
   "metadata": {
    "collapsed": false,
    "scrolled": false
   },
   "outputs": [],
   "source": [
    "#len(f_train)\n",
    "#labels_train.shape"
   ]
  },
  {
   "cell_type": "code",
   "execution_count": 90,
   "metadata": {
    "collapsed": true
   },
   "outputs": [],
   "source": [
    "def train_SVM(x_train,y_train):\n",
    "    svm_clf = OneVsRestClassifier(LinearSVC(C=1., random_state=42))\n",
    "    svm_model = svm_clf.fit(x_train, y_train)\n",
    "    return svm_model"
   ]
  },
  {
   "cell_type": "code",
   "execution_count": 53,
   "metadata": {
    "collapsed": false
   },
   "outputs": [],
   "source": [
    "model = train_SVM(features_train,labels_train)"
   ]
  },
  {
   "cell_type": "code",
   "execution_count": 91,
   "metadata": {
    "collapsed": true
   },
   "outputs": [],
   "source": [
    "def predict(model,file_id):\n",
    "    x_test = ndf_features[file_id]\n",
    "    x_test = scaler.transform(x_test)\n",
    "    output = model.predict(x_test)\n",
    "    return np.argmax(np.bincount(output))\n",
    "\n",
    "def label(file_id):\n",
    "    l = ndf_labels[file_id]['id'].tolist()\n",
    "    return l[0]"
   ]
  },
  {
   "cell_type": "code",
   "execution_count": 82,
   "metadata": {
    "collapsed": false
   },
   "outputs": [],
   "source": [
    "output = [predict(model,i) for i in f_test]\n",
    "labels_test = [label(i) for i in f_test]"
   ]
  },
  {
   "cell_type": "code",
   "execution_count": 92,
   "metadata": {
    "collapsed": false
   },
   "outputs": [
    {
     "name": "stdout",
     "output_type": "stream",
     "text": [
      "56.3501849568\n"
     ]
    }
   ],
   "source": [
    "print 100*accuracy_score(output,labels_test)"
   ]
  }
 ],
 "metadata": {
  "anaconda-cloud": {},
  "kernelspec": {
   "display_name": "Python [default]",
   "language": "python",
   "name": "python2"
  },
  "language_info": {
   "codemirror_mode": {
    "name": "ipython",
    "version": 2
   },
   "file_extension": ".py",
   "mimetype": "text/x-python",
   "name": "python",
   "nbconvert_exporter": "python",
   "pygments_lexer": "ipython2",
   "version": "2.7.13"
  }
 },
 "nbformat": 4,
 "nbformat_minor": 2
}
