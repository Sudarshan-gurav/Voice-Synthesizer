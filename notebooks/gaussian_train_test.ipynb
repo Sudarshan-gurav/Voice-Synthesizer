{
 "cells": [
  {
   "cell_type": "code",
   "execution_count": 1,
   "metadata": {
    "collapsed": false
   },
   "outputs": [],
   "source": [
    "import os\n",
    "import sys\n",
    "\n",
    "sys.path.append('..')\n",
    "\n",
    "import numpy as np\n",
    "import pandas as pd\n",
    "import matplotlib as plt\n",
    "import sklearn\n",
    "%matplotlib inline\n",
    "from IPython.core.interactiveshell import InteractiveShell\n",
    "InteractiveShell.ast_node_interactivity = \"all\"\n",
    "from sklearn.preprocessing import LabelEncoder\n",
    "from sklearn import preprocessing\n",
    "le = LabelEncoder()\n",
    "\n",
    "orig_df = pd.read_hdf(\"../data_extract/features_dataset_2b.h5\")"
   ]
  },
  {
   "cell_type": "code",
   "execution_count": 2,
   "metadata": {
    "collapsed": false
   },
   "outputs": [],
   "source": [
    "def data_split(dataframe,training,test,cross):\n",
    "    grouped_df = dataframe.groupby(['pid'],axis=0)\n",
    "    df_pid = dataframe.pid.unique()\n",
    "\n",
    "    training_set = []\n",
    "    test_set = []\n",
    "    cross_set = []\n",
    "    \n",
    "    for pid in df_pid:\n",
    "        current_df = grouped_df.get_group(pid)\n",
    "        file_grouped_df = current_df.groupby(['fname'],axis=0)\n",
    "        df_fnames = current_df.fname.unique()\n",
    "\n",
    "        training_len = (training*len(df_fnames))/100\n",
    "        test_len = (test*len(df_fnames))/100\n",
    "        cross_len = (cross*len(df_fnames))/100\n",
    "        \n",
    "        training_keys = df_fnames[0:training_len]\n",
    "        test_keys = df_fnames[training_len:training_len+test_len]\n",
    "        cross_keys = df_fnames[training_len+test_len:training_len+test_len+cross_len]\n",
    "\n",
    "        training_df = pd.concat([file_grouped_df.get_group(key) for key in training_keys])\n",
    "        test_df = pd.concat([file_grouped_df.get_group(key) for key in test_keys])\n",
    "        cross_df = pd.concat([file_grouped_df.get_group(key) for key in cross_keys])\n",
    "        \n",
    "        training_set.append(training_df)\n",
    "        test_set.append(training_df)\n",
    "        cross_set.append(training_df)\n",
    "        \n",
    "    training_df = pd.concat(training_set)\n",
    "    test_df = pd.concat(test_set)\n",
    "    cross_df = pd.concat(cross_set)    \n",
    "    return training_df,test_df,cross_df"
   ]
  },
  {
   "cell_type": "code",
   "execution_count": 3,
   "metadata": {
    "collapsed": false
   },
   "outputs": [],
   "source": [
    "NUM_PEOPLE = 40\n",
    "df = orig_df.loc[orig_df['id']<NUM_PEOPLE]"
   ]
  },
  {
   "cell_type": "code",
   "execution_count": 6,
   "metadata": {
    "collapsed": false
   },
   "outputs": [],
   "source": [
    "from numpy import zeros\n",
    "def gfit(chlist, x_train, id_range):\n",
    "    le = LabelEncoder()\n",
    "    mm = list()\n",
    "    covm = list()\n",
    "    for pid in range(id_range):\n",
    "        mm.append(np.mean(x_train[chlist].loc[x_train['id']==pid],axis=0))\n",
    "        covm.append(np.cov(x_train[chlist].loc[x_train['id']==pid], rowvar=False))\n",
    "    return mm, covm\n",
    "\n",
    "\n",
    "def predict(lclist, x_test,mm,covm):\n",
    "    cls = len(mm)\n",
    "    total = x_test['id'].count()\n",
    "    dist = zeros((total,cls))\n",
    "    \n",
    "    from scipy.stats import multivariate_normal\n",
    "    for i in range(cls):\n",
    "        dist[:,i] = multivariate_normal.pdf(x_test[lclist], mean=mm[i], cov=covm[i],allow_singular=True)\n",
    "    \n",
    "    le2 = LabelEncoder()\n",
    "    le2.fit(x_test['fname'])\n",
    "    \n",
    "    # totalfs will store the number of unique files\n",
    "    totalfs = len(le2.classes_)\n",
    "    \n",
    "    true_results = 0\n",
    "    # le2.classes_ contains list of unique files\n",
    "    for fname in le2.classes_:\n",
    "        bar = x_test['fname']==fname\n",
    "        probc = dist[bar,:]\n",
    "        pidc = x_test.loc[x_test['fname']==fname]['id'].iloc[0]\n",
    "        # plist = np.prod(probc,axis=0)\n",
    "        plist = np.sum(np.log(probc), axis = 0)\n",
    "        if pidc == np.argmax(plist):\n",
    "            true_results = true_results + 1\n",
    "    \n",
    "    print(true_results,totalfs)\n",
    "    print(\"Accuracy is {}%\".format(true_results*100/totalfs))\n",
    "    \n",
    "    \n",
    "def train_MLE(df):\n",
    "    chlist = [\"chroma{}\".format(i) for i in range(12)]\n",
    "    log_chroma_list = [\"lc{}\".format(i) for i in range(12)]\n",
    "    df[log_chroma_list] = np.log(df[chlist])\n",
    "\n",
    "    lclist = [\"mfcc{}\".format(i) for i in range(14)] + log_chroma_list\n",
    "#     lclist = log_chroma_list\n",
    "\n",
    "    df_train,df_test,df_cross = data_split(df,60,20,20)\n",
    "\n",
    "    ## Mean, standard deviation Scaling \n",
    "    scaler = preprocessing.StandardScaler().fit(df_train[lclist])\n",
    "    df_train.loc[:,lclist] = scaler.transform(df_train[lclist])\n",
    "    df_cross.loc[:,lclist] = scaler.transform(df_cross[lclist])\n",
    "    \n",
    "    mm, covm = gfit(lclist, df_train, NUM_PEOPLE)\n",
    "    predict(lclist, df_cross, mm, covm)"
   ]
  },
  {
   "cell_type": "code",
   "execution_count": 7,
   "metadata": {
    "collapsed": false
   },
   "outputs": [
    {
     "name": "stdout",
     "output_type": "stream",
     "text": [
      "(1582, 1608)\n",
      "Accuracy is 98%\n"
     ]
    }
   ],
   "source": [
    "train_MLE(df)"
   ]
  }
 ],
 "metadata": {
  "anaconda-cloud": {},
  "kernelspec": {
   "display_name": "Python [default]",
   "language": "python",
   "name": "python2"
  },
  "language_info": {
   "codemirror_mode": {
    "name": "ipython",
    "version": 2
   },
   "file_extension": ".py",
   "mimetype": "text/x-python",
   "name": "python",
   "nbconvert_exporter": "python",
   "pygments_lexer": "ipython2",
   "version": "2.7.13"
  }
 },
 "nbformat": 4,
 "nbformat_minor": 2
}
