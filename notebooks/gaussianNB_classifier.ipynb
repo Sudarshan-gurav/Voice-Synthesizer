{
 "cells": [
  {
   "cell_type": "code",
   "execution_count": 1,
   "metadata": {
    "collapsed": false
   },
   "outputs": [],
   "source": [
    "import os\n",
    "import sys\n",
    "\n",
    "sys.path.append('..')\n",
    "from models import *\n",
    "import numpy as np\n",
    "import pandas as pd\n",
    "import matplotlib as plt\n",
    "import sklearn\n",
    "%matplotlib inline\n",
    "from IPython.core.interactiveshell import InteractiveShell\n",
    "InteractiveShell.ast_node_interactivity = \"all\"\n",
    "from numpy import zeros\n",
    "from sklearn.preprocessing import LabelEncoder\n",
    "from sklearn import preprocessing\n",
    "from sklearn import datasets\n",
    "from sklearn.metrics import accuracy_score\n",
    "le = LabelEncoder()\n",
    "\n",
    "df = pd.read_hdf(\"../data_extract/features_dataset_2b.h5\")\n",
    "df['fid'] = le.fit_transform(df['fname'])"
   ]
  },
  {
   "cell_type": "code",
   "execution_count": 2,
   "metadata": {
    "collapsed": false
   },
   "outputs": [],
   "source": [
    "chlist = [\"chroma{}\".format(i) for i in range(12)]\n",
    "log_chroma_list = [\"lc{}\".format(i) for i in range(12)]\n",
    "df[log_chroma_list] = np.log(df[chlist])\n",
    "lclist = [\"mfcc{}\".format(i) for i in range(14)]+log_chroma_list+[\"centroid\",\"crest\",\"flatness\",\"kurtosis\",\"mean\"]"
   ]
  },
  {
   "cell_type": "code",
   "execution_count": 3,
   "metadata": {
    "collapsed": false,
    "scrolled": true
   },
   "outputs": [],
   "source": [
    "NUM_FILES = max(df['fid'])+1\n",
    "ndf_features = list()\n",
    "ndf_labels = list()\n",
    "for i in range(NUM_FILES):\n",
    "    ndf_features.append(df[lclist].loc[df['fid']==i])\n",
    "    ndf_labels.append(df[['id']].loc[df['fid']==i])"
   ]
  },
  {
   "cell_type": "code",
   "execution_count": 16,
   "metadata": {
    "collapsed": false
   },
   "outputs": [],
   "source": [
    "f_train, f_test, _, _ = train_test_split(range(NUM_FILES), range(NUM_FILES), test_size=0.6, random_state=42)\n",
    "\n",
    "features_train = ndf_features[f_train[0]]\n",
    "labels_train = ndf_labels[f_train[0]]\n",
    "for i in range(1,len(f_train)-1):\n",
    "    features_train = features_train.append(ndf_features[f_train[i]])\n",
    "    labels_train = labels_train.append(ndf_labels[f_train[i]])\n",
    "\n",
    "scaler = preprocessing.StandardScaler().fit(features_train)\n",
    "features_train = scaler.transform(features_train)"
   ]
  },
  {
   "cell_type": "code",
   "execution_count": 17,
   "metadata": {
    "collapsed": true
   },
   "outputs": [],
   "source": [
    "def train_GNB(x_train,y_train):\n",
    "    gnb = GaussianNB()\n",
    "    model = gnb.fit(x_train, y_train)\n",
    "    return model\n",
    "\n",
    "def label(file_id):\n",
    "    l = ndf_labels[file_id]['id'].tolist()\n",
    "    return l[0]\n",
    "\n",
    "def predict(model,file_id):\n",
    "    x_test = ndf_features[file_id]\n",
    "    x_test = scaler.transform(x_test)\n",
    "    output = (model.predict_log_proba(x_test)).transpose()\n",
    "    sum_output = [sum(output[i]) for i in range(len(output))]\n",
    "    return np.argmax(sum_output)"
   ]
  },
  {
   "cell_type": "code",
   "execution_count": 18,
   "metadata": {
    "collapsed": false
   },
   "outputs": [
    {
     "name": "stdout",
     "output_type": "stream",
     "text": [
      "90.382244143\n"
     ]
    }
   ],
   "source": [
    "model = train_GNB(features_train,labels_train['id'].tolist())\n",
    "output = [predict(model,i) for i in f_test]\n",
    "label_test = [label(i) for i in f_test]\n",
    "print 100*accuracy_score(output,label_test)"
   ]
  }
 ],
 "metadata": {
  "anaconda-cloud": {},
  "kernelspec": {
   "display_name": "Python [default]",
   "language": "python",
   "name": "python2"
  },
  "language_info": {
   "codemirror_mode": {
    "name": "ipython",
    "version": 2
   },
   "file_extension": ".py",
   "mimetype": "text/x-python",
   "name": "python",
   "nbconvert_exporter": "python",
   "pygments_lexer": "ipython2",
   "version": "2.7.13"
  }
 },
 "nbformat": 4,
 "nbformat_minor": 2
}
