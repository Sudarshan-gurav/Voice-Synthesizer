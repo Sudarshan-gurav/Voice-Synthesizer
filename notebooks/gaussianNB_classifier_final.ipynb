{
 "cells": [
  {
   "cell_type": "code",
   "execution_count": 31,
   "metadata": {
    "collapsed": false
   },
   "outputs": [],
   "source": [
    "import os\n",
    "import sys\n",
    "\n",
    "sys.path.append('..')\n",
    "from models import *\n",
    "import numpy as np\n",
    "import pandas as pd\n",
    "import matplotlib as plt\n",
    "import sklearn\n",
    "%matplotlib inline\n",
    "from IPython.core.interactiveshell import InteractiveShell\n",
    "InteractiveShell.ast_node_interactivity = \"all\"\n",
    "from numpy import zeros\n",
    "from sklearn.preprocessing import LabelEncoder\n",
    "from sklearn import preprocessing\n",
    "from sklearn import datasets\n",
    "le = LabelEncoder()\n",
    "\n",
    "df = pd.read_hdf(\"../data_extract/features_dataset_2b.h5\")"
   ]
  },
  {
   "cell_type": "code",
   "execution_count": 40,
   "metadata": {
    "collapsed": false
   },
   "outputs": [],
   "source": [
    "NUM_PEOPLE = 10\n",
    "df = df.loc[df['id']<NUM_PEOPLE]"
   ]
  },
  {
   "cell_type": "code",
   "execution_count": 41,
   "metadata": {
    "collapsed": false,
    "scrolled": true
   },
   "outputs": [],
   "source": [
    "clist = [\"chroma{}\".format(i) for i in range(12)]\n",
    "lclist = [\"lc{}\".format(i) for i in range(12)]\n",
    "df[lclist] = np.log(df[clist])\n",
    "flist = [\"mfcc{}\".format(i) for i in range(14)]+lclist+[\"centroid\",\"crest\",\"flatness\",\"kurtosis\",\"mean\"]\n",
    "df_train, df_cross, df_test = get_partitions(df)"
   ]
  },
  {
   "cell_type": "code",
   "execution_count": 42,
   "metadata": {
    "collapsed": true
   },
   "outputs": [],
   "source": [
    "obj = GaussNB(flist)\n",
    "obj.fit(df_train)"
   ]
  },
  {
   "cell_type": "code",
   "execution_count": 43,
   "metadata": {
    "collapsed": false
   },
   "outputs": [
    {
     "name": "stdout",
     "output_type": "stream",
     "text": [
      "             precision    recall  f1-score   support\n",
      "\n",
      "          0       1.00      1.00      1.00        15\n",
      "          1       0.95      0.95      0.95        19\n",
      "          2       1.00      1.00      1.00         9\n",
      "          3       0.69      0.92      0.79        12\n",
      "          4       0.93      1.00      0.96        13\n",
      "          5       1.00      0.33      0.50        15\n",
      "          6       0.83      0.83      0.83        12\n",
      "          7       0.94      1.00      0.97        16\n",
      "          8       1.00      1.00      1.00        11\n",
      "          9       0.73      1.00      0.85        11\n",
      "\n",
      "avg / total       0.91      0.89      0.88       133\n",
      "\n"
     ]
    }
   ],
   "source": [
    "obj.predict_df(df_cross)"
   ]
  }
 ],
 "metadata": {
  "anaconda-cloud": {},
  "kernelspec": {
   "display_name": "Python [default]",
   "language": "python",
   "name": "python2"
  },
  "language_info": {
   "codemirror_mode": {
    "name": "ipython",
    "version": 2
   },
   "file_extension": ".py",
   "mimetype": "text/x-python",
   "name": "python",
   "nbconvert_exporter": "python",
   "pygments_lexer": "ipython2",
   "version": "2.7.13"
  }
 },
 "nbformat": 4,
 "nbformat_minor": 2
}
