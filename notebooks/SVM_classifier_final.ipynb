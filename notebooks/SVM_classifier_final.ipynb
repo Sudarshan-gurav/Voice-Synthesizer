{
 "cells": [
  {
   "cell_type": "code",
   "execution_count": 7,
   "metadata": {
    "collapsed": false
   },
   "outputs": [],
   "source": [
    "import os\n",
    "import sys\n",
    "\n",
    "sys.path.append('..')\n",
    "from models import *\n",
    "import numpy as np\n",
    "import pandas as pd\n",
    "import matplotlib as plt\n",
    "import sklearn\n",
    "%matplotlib inline\n",
    "from IPython.core.interactiveshell import InteractiveShell\n",
    "InteractiveShell.ast_node_interactivity = \"all\"\n",
    "from numpy import zeros\n",
    "from sklearn.preprocessing import LabelEncoder\n",
    "from sklearn import preprocessing\n",
    "from sklearn import datasets\n",
    "le = LabelEncoder()\n",
    "\n",
    "df = pd.read_hdf(\"../data_extract/features_dataset_2b.h5\")"
   ]
  },
  {
   "cell_type": "code",
   "execution_count": 8,
   "metadata": {
    "collapsed": false
   },
   "outputs": [],
   "source": [
    "NUM_PEOPLE = 40\n",
    "df = df.loc[df['id']<NUM_PEOPLE]"
   ]
  },
  {
   "cell_type": "code",
   "execution_count": 9,
   "metadata": {
    "collapsed": false,
    "scrolled": true
   },
   "outputs": [],
   "source": [
    "clist = [\"chroma{}\".format(i) for i in range(12)]\n",
    "lclist = [\"lc{}\".format(i) for i in range(12)]\n",
    "df[lclist] = np.log(df[clist])\n",
    "flist = [\"mfcc{}\".format(i) for i in range(14)]+lclist+[\"centroid\",\"crest\",\"flatness\",\"kurtosis\",\"mean\"]\n",
    "df_train, df_cross, df_test = get_partitions(df)"
   ]
  },
  {
   "cell_type": "code",
   "execution_count": null,
   "metadata": {
    "collapsed": false
   },
   "outputs": [],
   "source": [
    "obj = SVM(flist)\n",
    "obj.fit(df_train)"
   ]
  },
  {
   "cell_type": "code",
   "execution_count": 5,
   "metadata": {
    "collapsed": false
   },
   "outputs": [
    {
     "name": "stdout",
     "output_type": "stream",
     "text": [
      "             precision    recall  f1-score   support\n",
      "\n",
      "          0       1.00      1.00      1.00        15\n",
      "          1       1.00      1.00      1.00        19\n",
      "          2       1.00      1.00      1.00         9\n",
      "          3       1.00      1.00      1.00        12\n",
      "\n",
      "avg / total       1.00      1.00      1.00        55\n",
      "\n"
     ]
    }
   ],
   "source": [
    "obj.predict_df(df_cross)"
   ]
  }
 ],
 "metadata": {
  "anaconda-cloud": {},
  "kernelspec": {
   "display_name": "Python [default]",
   "language": "python",
   "name": "python2"
  },
  "language_info": {
   "codemirror_mode": {
    "name": "ipython",
    "version": 2
   },
   "file_extension": ".py",
   "mimetype": "text/x-python",
   "name": "python",
   "nbconvert_exporter": "python",
   "pygments_lexer": "ipython2",
   "version": "2.7.13"
  }
 },
 "nbformat": 4,
 "nbformat_minor": 2
}
