{
 "cells": [
  {
   "cell_type": "code",
   "execution_count": 89,
   "metadata": {
    "collapsed": false
   },
   "outputs": [],
   "source": [
    "import os\n",
    "import sys\n",
    "\n",
    "sys.path.append('..')\n",
    "from models import *\n",
    "import numpy as np\n",
    "import pandas as pd\n",
    "import matplotlib as plt\n",
    "import sklearn\n",
    "%matplotlib inline\n",
    "from IPython.core.interactiveshell import InteractiveShell\n",
    "InteractiveShell.ast_node_interactivity = \"all\"\n",
    "from numpy import zeros\n",
    "from sklearn.preprocessing import LabelEncoder\n",
    "from sklearn import preprocessing\n",
    "from sklearn import datasets\n",
    "from sklearn.externals import joblib\n",
    "import random\n",
    "\n",
    "le = LabelEncoder()\n",
    "\n",
    "df_data = pd.read_hdf(\"../data_extract/features_dataset_2b.h5\")"
   ]
  },
  {
   "cell_type": "code",
   "execution_count": 90,
   "metadata": {
    "collapsed": false
   },
   "outputs": [],
   "source": [
    "ids = [i for i in range(40)]\n",
    "for i in [5,31,35,39]:\n",
    "    ids.remove(i)\n",
    "random.shuffle(ids)\n",
    "\n",
    "NUM_PEOPLE = 8\n",
    "sel = [ids[i] for i in range(len(ids)) if i<NUM_PEOPLE]\n",
    "\n",
    "bool_arr = np.array([(row in sel) for row in df_data['id']])\n",
    "df = df_data[bool_arr]"
   ]
  },
  {
   "cell_type": "code",
   "execution_count": 95,
   "metadata": {
    "collapsed": false,
    "scrolled": true
   },
   "outputs": [],
   "source": [
    "clist = [\"chroma{}\".format(i) for i in range(12)]\n",
    "lclist = [\"lc{}\".format(i) for i in range(12)]\n",
    "df[lclist] = np.log(df[clist])\n",
    "flist = [\"mfcc{}\".format(i) for i in range(14)]+lclist+[\"centroid\",\"crest\",\"flatness\",\"kurtosis\",\"mean\"]\n",
    "df_train, df_cross, df_test = get_partitions_2(df,train_per=0.3,cross_per=0.6,test_per=0.1)"
   ]
  },
  {
   "cell_type": "code",
   "execution_count": 96,
   "metadata": {
    "collapsed": false
   },
   "outputs": [],
   "source": [
    "obj = SVM(flist)\n",
    "obj.fit(df_train)\n",
    "#joblib.dump(obj, '../saved_models/SVM5.pkl') "
   ]
  },
  {
   "cell_type": "code",
   "execution_count": 97,
   "metadata": {
    "collapsed": false
   },
   "outputs": [
    {
     "name": "stdout",
     "output_type": "stream",
     "text": [
      "             precision    recall  f1-score   support\n",
      "\n",
      "          6       1.00      1.00      1.00         5\n",
      "          9       1.00      1.00      1.00         5\n",
      "         11       1.00      1.00      1.00         5\n",
      "         13       1.00      1.00      1.00         7\n",
      "         18       1.00      1.00      1.00         4\n",
      "         26       1.00      1.00      1.00         8\n",
      "         32       1.00      1.00      1.00         7\n",
      "         33       1.00      1.00      1.00         7\n",
      "\n",
      "avg / total       1.00      1.00      1.00        48\n",
      "\n"
     ]
    }
   ],
   "source": [
    "#obj2 = joblib.load('../saved_models/SVM5.pkl') \n",
    "output = obj.predict_df(df_test)\n",
    "print output"
   ]
  },
  {
   "cell_type": "code",
   "execution_count": 94,
   "metadata": {
    "collapsed": false
   },
   "outputs": [
    {
     "data": {
      "text/plain": [
       "1.0"
      ]
     },
     "execution_count": 94,
     "metadata": {},
     "output_type": "execute_result"
    }
   ],
   "source": [
    "x = float(filter(None, output.split('\\n')[-2].split(' '))[-2])\n",
    "x"
   ]
  },
  {
   "cell_type": "code",
   "execution_count": null,
   "metadata": {
    "collapsed": true
   },
   "outputs": [],
   "source": []
  }
 ],
 "metadata": {
  "anaconda-cloud": {},
  "kernelspec": {
   "display_name": "Python [default]",
   "language": "python",
   "name": "python2"
  },
  "language_info": {
   "codemirror_mode": {
    "name": "ipython",
    "version": 2
   },
   "file_extension": ".py",
   "mimetype": "text/x-python",
   "name": "python",
   "nbconvert_exporter": "python",
   "pygments_lexer": "ipython2",
   "version": "2.7.13"
  }
 },
 "nbformat": 4,
 "nbformat_minor": 2
}
