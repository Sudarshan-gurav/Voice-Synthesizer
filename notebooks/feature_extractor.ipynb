{
 "cells": [
  {
   "cell_type": "code",
   "execution_count": 75,
   "metadata": {
    "collapsed": false
   },
   "outputs": [],
   "source": [
    "from __future__ import print_function, division\n",
    "\n",
    "import os\n",
    "import glob\n",
    "import sys\n",
    "import os\n",
    "import glob\n",
    "import csv\n",
    "\n",
    "from os import walk\n",
    "\n",
    "sys.path.append('..')\n",
    "\n",
    "import numpy as np\n",
    "import pandas as pd\n",
    "from pymir import AudioFile"
   ]
  },
  {
   "cell_type": "code",
   "execution_count": 76,
   "metadata": {
    "collapsed": false
   },
   "outputs": [
    {
     "name": "stdout",
     "output_type": "stream",
     "text": [
      "Populating the interactive namespace from numpy and matplotlib\n"
     ]
    }
   ],
   "source": [
    "%pylab inline"
   ]
  },
  {
   "cell_type": "code",
   "execution_count": 77,
   "metadata": {
    "collapsed": true
   },
   "outputs": [],
   "source": [
    "# constants\n",
    "N_MFCC = 32\n",
    "N_CHROMA = 12\n",
    "FRAME_SIZE = 1"
   ]
  },
  {
   "cell_type": "code",
   "execution_count": 87,
   "metadata": {
    "collapsed": false
   },
   "outputs": [],
   "source": [
    "def get_feature_df(audio_path, person_id, person_name, person_gender, file_name, chapter_name, speech_text, SEGMENT_TIME = 0.1):\n",
    "    audio_data = AudioFile.open(audio_path)\n",
    "    \n",
    "    # Nearest larger power of 2\n",
    "    SEGMENT_SIZE = int(2**math.ceil(\n",
    "                    math.log(SEGMENT_TIME*audio_data.sampleRate*FRAME_SIZE,2)))\n",
    "    fixed_frames = audio_data.frames(SEGMENT_SIZE, np.hamming)\n",
    "    \n",
    "    # Avoid last empty frame\n",
    "    fixed_frames = fixed_frames[:-1]\n",
    "    N_SEGMENTS = len(fixed_frames)\n",
    "    \n",
    "    spectra = [frame.spectrum() for frame in fixed_frames]\n",
    "\n",
    "    zcr = pd.Series([frame.zcr() for frame in fixed_frames])\n",
    "    centroid = pd.Series([spectrum.centroid() for spectrum in spectra])\n",
    "    crest = pd.Series([spectrum.crest() for spectrum in spectra])\n",
    "    mean = pd.Series([spectrum.mean() for spectrum in spectra])\n",
    "    flatness = pd.Series([spectrum.flatness() for spectrum in spectra])\n",
    "    kurtosis = pd.Series([spectrum.kurtosis() for spectrum in spectra])\n",
    "    \n",
    "    skewness = pd.Series([spectrum.skewness() for spectrum in spectra])\n",
    "    variance = pd.Series([spectrum.variance() for spectrum in spectra])\n",
    "    spread = pd.Series([spectrum.spread() for spectrum in spectra])\n",
    "    rolloff = pd.Series([spectrum.rolloff() for spectrum in spectra])\n",
    "\n",
    "    features = pd.DataFrame(data={\n",
    "        'pid': pd.Series([person_id] * N_SEGMENTS),\n",
    "        'pname': pd.Series([person_name] * N_SEGMENTS),\n",
    "        'pgender': pd.Series([person_gender] * N_SEGMENTS),\n",
    "        'fname': pd.Series([file_name] * N_SEGMENTS),\n",
    "        'chname': pd.Series([chapter_name] * N_SEGMENTS),\n",
    "        'text': pd.Series([speech_text] * N_SEGMENTS),\n",
    "        'zcr': zcr,\n",
    "        'centroid': centroid,\n",
    "        'crest': crest,\n",
    "        'mean': mean,\n",
    "        'flatness': flatness,\n",
    "        'kurtosis': kurtosis,\n",
    "        'skewness': skewness,\n",
    "        'variance': variance,\n",
    "        'spread': spread,\n",
    "        'rolloff': rolloff,\n",
    "    })\n",
    "\n",
    "    mfcc2 = pd.DataFrame([spectrum.mfcc2()[:N_MFCC] for spectrum in spectra],\n",
    "                         columns=['mfcc{}'.format(i) for i in range(N_MFCC)])\n",
    "    features = features.join(mfcc2)\n",
    "\n",
    "    chroma = pd.DataFrame([spectrum.chroma()[:N_CHROMA] for spectrum in spectra],\n",
    "                          columns=['chroma{}'.format(i) for i in range(N_CHROMA)])\n",
    "    features = features.join(chroma)\n",
    "    return features"
   ]
  },
  {
   "cell_type": "code",
   "execution_count": 89,
   "metadata": {
    "collapsed": false
   },
   "outputs": [],
   "source": [
    "def create_db(filepath, SEGMENT_TIME = 0.1, test = False):\n",
    "    BASE_DIR = os.path.join(\"..\",\"data\",\"dev-clean\")\n",
    "    reader = csv.DictReader(open(\"../data_extract/INFO.TXT\"),delimiter='|', quotechar='|')\n",
    "\n",
    "    audio_features_dataset = pd.DataFrame()\n",
    "    count = 0\n",
    "    for row in reader:\n",
    "        file_path = os.path.join(BASE_DIR,row['id'],row['chapter'],row['file'])\n",
    "        df = get_feature_df(file_path, row['id'], row['name'], row['sex'], \n",
    "                            row['file'], row['chapter'], row['content'], SEGMENT_TIME)    \n",
    "        audio_features_dataset = audio_features_dataset.append(df, ignore_index=True)\n",
    "        if(count % 10000 == 0):\n",
    "            print (count,file_path)\n",
    "        count = count + 1\n",
    "        if test:\n",
    "            break\n",
    "\n",
    "    audio_features_dataset.to_hdf(filepath, key='dataset')\n",
    "    print(\"DB Created\")"
   ]
  },
  {
   "cell_type": "code",
   "execution_count": 90,
   "metadata": {
    "collapsed": false
   },
   "outputs": [
    {
     "name": "stdout",
     "output_type": "stream",
     "text": [
      "0 ../data/dev-clean/84/121123/84-121123-0016.wav\n"
     ]
    },
    {
     "name": "stderr",
     "output_type": "stream",
     "text": [
      "../pymir/Spectrum.py:91: RuntimeWarning: invalid value encountered in double_scalars\n",
      "  return (numerator * 1.0) / denominator\n",
      "../pymir/Spectrum.py:110: RuntimeWarning: invalid value encountered in double_scalars\n",
      "  return maxSpectrum / spectralSum\n",
      "/home/anshul/anaconda2/envs/voice/lib/python2.7/site-packages/scipy/stats/stats.py:314: RuntimeWarning: divide by zero encountered in log\n",
      "  log_a = np.log(a)\n",
      "../pymir/Spectrum.py:120: RuntimeWarning: invalid value encountered in double_scalars\n",
      "  return geometricMean / arithmeticMean\n",
      "/home/anshul/anaconda2/envs/voice/lib/python2.7/site-packages/numpy/lib/scimath.py:262: RuntimeWarning: divide by zero encountered in log\n",
      "  return nx.log(x)\n"
     ]
    },
    {
     "name": "stdout",
     "output_type": "stream",
     "text": [
      "DB Created\n"
     ]
    }
   ],
   "source": [
    "# DB with 100 ms segments\n",
    "N_MFCC = 14\n",
    "path2 = '../data_extract/features_dataset_2.h5'\n",
    "create_db(path2,0.1)"
   ]
  },
  {
   "cell_type": "code",
   "execution_count": 68,
   "metadata": {
    "collapsed": false
   },
   "outputs": [],
   "source": [
    "# Initial DB\n",
    "# path1 = '../data_extract/features_datasetdemo.h5'\n",
    "# create_db(path1, True)"
   ]
  }
 ],
 "metadata": {
  "anaconda-cloud": {},
  "kernelspec": {
   "display_name": "Python [conda env:voice]",
   "language": "python",
   "name": "conda-env-voice-py"
  },
  "language_info": {
   "codemirror_mode": {
    "name": "ipython",
    "version": 2
   },
   "file_extension": ".py",
   "mimetype": "text/x-python",
   "name": "python",
   "nbconvert_exporter": "python",
   "pygments_lexer": "ipython2",
   "version": "2.7.13"
  }
 },
 "nbformat": 4,
 "nbformat_minor": 2
}
