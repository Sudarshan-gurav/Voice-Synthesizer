{
 "cells": [
  {
   "cell_type": "code",
   "execution_count": 26,
   "metadata": {
    "collapsed": true
   },
   "outputs": [],
   "source": [
    "import os\n",
    "import sys\n",
    "\n",
    "sys.path.append('..')\n",
    "\n",
    "import numpy as np\n",
    "import pandas as pd\n",
    "import matplotlib as plt\n",
    "import sklearn\n",
    "%matplotlib inline\n",
    "from IPython.core.interactiveshell import InteractiveShell\n",
    "InteractiveShell.ast_node_interactivity = \"all\"\n",
    "from sklearn.preprocessing import LabelEncoder\n",
    "from sklearn import preprocessing\n",
    "le = LabelEncoder()\n",
    "\n",
    "df = pd.read_hdf(\"../data_extract/features_dataset_2b.h5\")"
   ]
  },
  {
   "cell_type": "code",
   "execution_count": 27,
   "metadata": {
    "collapsed": false
   },
   "outputs": [],
   "source": [
    "NUM_PEOPLE = 40\n",
    "df = df.loc[df['id']<NUM_PEOPLE]"
   ]
  },
  {
   "cell_type": "code",
   "execution_count": 28,
   "metadata": {
    "collapsed": false
   },
   "outputs": [],
   "source": [
    "from numpy import zeros\n",
    "def gfit(chlist, xtrain, id_range):\n",
    "    le = LabelEncoder()\n",
    "    mm = list()\n",
    "    covm = list()\n",
    "    for pid in range(id_range):\n",
    "        mm.append(np.mean(xtrain[chlist].loc[df['id']==pid],axis=0))\n",
    "        covm.append(np.cov(xtrain[chlist].loc[df['id']==pid], rowvar=False))\n",
    "    return mm, covm\n",
    "\n",
    "\n",
    "def predict(chlist,xtest,mm,covm,y_test):\n",
    "    cls = len(mm)\n",
    "    total = y_test['id'].count()\n",
    "    dist = zeros((total,cls))\n",
    "    from scipy.stats import multivariate_normal\n",
    "    for i in range(cls):\n",
    "        dist[:,i] = multivariate_normal.pdf(xtest, mean=mm[i], cov=covm[i],allow_singular=True)\n",
    "    le2 = LabelEncoder()\n",
    "    le2.fit(y_test['fname'])\n",
    "    totalfs = len(le2.classes_)\n",
    "    true_results = 0\n",
    "    for fname in le2.classes_:\n",
    "        bar = y_test['fname']==fname\n",
    "        probc = dist[bar,:]\n",
    "        pidc = y_test.loc[y_test['fname']==fname]['id'].iloc[0]\n",
    "        plist = np.prod(probc,axis=0)\n",
    "        if plist[pidc] == max(plist):\n",
    "            true_results = true_results + 1\n",
    "    print(true_results,totalfs)\n",
    "    print(\"Accuracy is {}%\".format(true_results*100/totalfs))\n",
    "    \n",
    "def train_MLE(df):\n",
    "    chlist = [\"chroma{}\".format(i) for i in range(12)]\n",
    "    log_chroma_list = [\"lc{}\".format(i) for i in range(12)]\n",
    "    df[log_chroma_list] = np.log(df[chlist])\n",
    "\n",
    "    lclist = [\"mfcc{}\".format(i) for i in range(14)] + log_chroma_list\n",
    "    \n",
    "    from sklearn.model_selection import train_test_split\n",
    "    x_train, x_test, y_train, y_test = train_test_split(\n",
    "        df[lclist], df[[\"id\",\"fname\"]], test_size=0.3, random_state=42)\n",
    "    \n",
    "    ## Mean, standard deviation Scaling \n",
    "    scaler = preprocessing.StandardScaler().fit(x_train)\n",
    "    x_train[lclist] = scaler.transform(x_train)\n",
    "    x_test[lclist] = scaler.transform(x_test)\n",
    "    \n",
    "    x_train['id'] = y_train[\"id\"]\n",
    "    x_train['fname'] = y_train[\"fname\"]\n",
    "    \n",
    "    mm, covm = gfit(lclist,x_train,NUM_PEOPLE)\n",
    "    predict(lclist,x_test,mm,covm,y_test)"
   ]
  },
  {
   "cell_type": "code",
   "execution_count": 29,
   "metadata": {
    "collapsed": false
   },
   "outputs": [
    {
     "name": "stdout",
     "output_type": "stream",
     "text": [
      "(2471, 2703)\n",
      "Accuracy is 91%\n"
     ]
    }
   ],
   "source": [
    "train_MLE(df)"
   ]
  }
 ],
 "metadata": {
  "anaconda-cloud": {},
  "kernelspec": {
   "display_name": "Python [conda env:voice]",
   "language": "python",
   "name": "conda-env-voice-py"
  },
  "language_info": {
   "codemirror_mode": {
    "name": "ipython",
    "version": 2
   },
   "file_extension": ".py",
   "mimetype": "text/x-python",
   "name": "python",
   "nbconvert_exporter": "python",
   "pygments_lexer": "ipython2",
   "version": "2.7.13"
  }
 },
 "nbformat": 4,
 "nbformat_minor": 2
}
