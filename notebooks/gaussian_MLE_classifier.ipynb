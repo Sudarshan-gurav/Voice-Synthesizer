{
 "cells": [
  {
   "cell_type": "code",
   "execution_count": 1,
   "metadata": {
    "collapsed": false
   },
   "outputs": [],
   "source": [
    "import os\n",
    "import sys\n",
    "\n",
    "sys.path.append('..')\n",
    "\n",
    "from models import *\n",
    "\n",
    "import numpy as np\n",
    "import pandas as pd\n",
    "import matplotlib as plt\n",
    "import sklearn\n",
    "%matplotlib inline\n",
    "from IPython.core.interactiveshell import InteractiveShell\n",
    "InteractiveShell.ast_node_interactivity = \"all\"\n",
    "from sklearn.preprocessing import LabelEncoder\n",
    "from sklearn import preprocessing\n",
    "le = LabelEncoder()\n",
    "\n",
    "df = pd.read_hdf(\"../data_extract/features_dataset_2b.h5\")"
   ]
  },
  {
   "cell_type": "code",
   "execution_count": 2,
   "metadata": {
    "collapsed": false
   },
   "outputs": [],
   "source": [
    "NUM_PEOPLE = 40\n",
    "df = df.loc[df['id']<NUM_PEOPLE]"
   ]
  },
  {
   "cell_type": "code",
   "execution_count": 3,
   "metadata": {
    "collapsed": false
   },
   "outputs": [],
   "source": [
    "flist = [\"mfcc{}\".format(i) for i in range(14)]\n",
    "\n",
    "df_train, df_cross, df_test = get_partitions(df)\n",
    "\n",
    "obj = MultiGauss(flist)\n",
    "obj.fit(df_train)"
   ]
  },
  {
   "cell_type": "code",
   "execution_count": 4,
   "metadata": {
    "collapsed": false
   },
   "outputs": [
    {
     "name": "stdout",
     "output_type": "stream",
     "text": [
      "             precision    recall  f1-score   support\n",
      "\n",
      "          0       0.94      1.00      0.97        15\n",
      "          1       0.90      0.95      0.92        19\n",
      "          2       1.00      1.00      1.00         9\n",
      "          3       0.73      0.92      0.81        12\n",
      "          4       0.68      1.00      0.81        13\n",
      "          5       0.69      0.60      0.64        15\n",
      "          6       1.00      0.75      0.86        12\n",
      "          7       0.88      0.94      0.91        16\n",
      "          8       1.00      1.00      1.00        11\n",
      "          9       1.00      1.00      1.00        11\n",
      "         10       0.94      0.84      0.89        19\n",
      "         11       1.00      1.00      1.00        12\n",
      "         12       1.00      0.78      0.88        18\n",
      "         13       1.00      0.80      0.89        15\n",
      "         14       0.80      1.00      0.89        12\n",
      "         15       1.00      1.00      1.00         8\n",
      "         16       0.91      1.00      0.95        10\n",
      "         17       1.00      1.00      1.00        18\n",
      "         18       1.00      1.00      1.00        10\n",
      "         19       0.93      1.00      0.96        13\n",
      "         20       1.00      0.89      0.94         9\n",
      "         21       1.00      0.95      0.97        20\n",
      "         22       0.92      1.00      0.96        12\n",
      "         23       1.00      1.00      1.00         8\n",
      "         24       1.00      1.00      1.00        12\n",
      "         25       1.00      0.92      0.96        12\n",
      "         26       1.00      0.88      0.94        17\n",
      "         27       1.00      0.94      0.97        16\n",
      "         28       0.94      1.00      0.97        16\n",
      "         29       0.94      1.00      0.97        15\n",
      "         30       1.00      1.00      1.00        20\n",
      "         31       1.00      0.64      0.78        11\n",
      "         32       0.93      0.88      0.90        16\n",
      "         33       1.00      1.00      1.00        15\n",
      "         34       1.00      0.94      0.97        17\n",
      "         35       0.71      0.80      0.75        15\n",
      "         36       0.80      1.00      0.89        16\n",
      "         37       0.94      1.00      0.97        15\n",
      "         38       0.92      0.92      0.92        13\n",
      "         39       0.80      0.73      0.76        11\n",
      "\n",
      "avg / total       0.93      0.92      0.92       554\n",
      "\n"
     ]
    }
   ],
   "source": [
    "obj.predict_df(df_cross)"
   ]
  }
 ],
 "metadata": {
  "anaconda-cloud": {},
  "kernelspec": {
   "display_name": "Python [conda env:voice]",
   "language": "python",
   "name": "conda-env-voice-py"
  },
  "language_info": {
   "codemirror_mode": {
    "name": "ipython",
    "version": 2
   },
   "file_extension": ".py",
   "mimetype": "text/x-python",
   "name": "python",
   "nbconvert_exporter": "python",
   "pygments_lexer": "ipython2",
   "version": "2.7.13"
  }
 },
 "nbformat": 4,
 "nbformat_minor": 2
}
