{
 "cells": [
  {
   "cell_type": "code",
   "execution_count": 1,
   "metadata": {
    "collapsed": true
   },
   "outputs": [],
   "source": [
    "import os\n",
    "import sys\n",
    "\n",
    "sys.path.append('..')\n",
    "\n",
    "import numpy as np\n",
    "import pandas as pd\n",
    "import matplotlib as plt\n",
    "import sklearn\n",
    "%matplotlib inline\n",
    "from IPython.core.interactiveshell import InteractiveShell\n",
    "InteractiveShell.ast_node_interactivity = \"all\"\n",
    "\n",
    "df = pd.read_hdf(\"../data_extract/features_dataset_2b.h5\")"
   ]
  },
  {
   "cell_type": "code",
   "execution_count": 2,
   "metadata": {
    "collapsed": true
   },
   "outputs": [],
   "source": [
    "df = df[np.isfinite(df['centroid'])]\n",
    "from sklearn.preprocessing import LabelEncoder\n",
    "le = LabelEncoder()\n",
    "df['id'] = le.fit_transform(df['pid'])\n"
   ]
  },
  {
   "cell_type": "code",
   "execution_count": 3,
   "metadata": {
    "collapsed": false
   },
   "outputs": [],
   "source": [
    "from numpy import zeros\n",
    "def gfit(chlist, xtrain, id_range):\n",
    "    le = LabelEncoder()\n",
    "    mm = list()\n",
    "    covm = list()\n",
    "    for pid in range(id_range):\n",
    "        mm.append(np.mean(xtrain[chlist].loc[df['id']==pid],axis=0))\n",
    "        covm.append(np.cov(xtrain[chlist].loc[df['id']==pid], rowvar=False))\n",
    "    return mm, covm\n",
    "\n",
    "\n",
    "def predict(chlist,xtest,mm,covm,y_test):\n",
    "    true_results = 0\n",
    "    cls = len(mm)\n",
    "    total = y_test.count()\n",
    "    dist = zeros((total,cls))\n",
    "    from scipy.stats import multivariate_normal\n",
    "    for i in range(cls):\n",
    "        dist[:,i] = multivariate_normal.pdf(xtest, mean=mm[i], cov=covm[i],allow_singular=True)\n",
    "#     print(y_test.tolist()[0])\n",
    "    y_test = y_test.tolist()\n",
    "    for i in range(total):\n",
    "        probs = dist[i,:]\n",
    "        if probs[y_test[i]] == max(probs):\n",
    "            true_results = true_results + 1\n",
    "    print(true_results,total)\n",
    "    \n",
    "    \n",
    "def train_MLE(df):\n",
    "    chlist = [\"chroma{}\".format(i) for i in range(12)]\n",
    "    \n",
    "    from sklearn.model_selection import train_test_split\n",
    "    x_train, x_test, y_train, y_test = train_test_split(\n",
    "        df[chlist], df[\"id\"], test_size=0.3, random_state=42)\n",
    "    \n",
    "    x_train['id'] = y_train\n",
    "    \n",
    "    mm, covm = gfit(chlist,x_train,40)\n",
    "    predict(chlist,x_test,mm,covm,y_test)"
   ]
  },
  {
   "cell_type": "code",
   "execution_count": 4,
   "metadata": {
    "collapsed": false
   },
   "outputs": [
    {
     "name": "stdout",
     "output_type": "stream",
     "text": [
      "(4550, 44997)\n"
     ]
    }
   ],
   "source": [
    "train_MLE(df)"
   ]
  }
 ],
 "metadata": {
  "anaconda-cloud": {},
  "kernelspec": {
   "display_name": "Python [conda env:voice]",
   "language": "python",
   "name": "conda-env-voice-py"
  },
  "language_info": {
   "codemirror_mode": {
    "name": "ipython",
    "version": 2
   },
   "file_extension": ".py",
   "mimetype": "text/x-python",
   "name": "python",
   "nbconvert_exporter": "python",
   "pygments_lexer": "ipython2",
   "version": "2.7.13"
  }
 },
 "nbformat": 4,
 "nbformat_minor": 2
}
