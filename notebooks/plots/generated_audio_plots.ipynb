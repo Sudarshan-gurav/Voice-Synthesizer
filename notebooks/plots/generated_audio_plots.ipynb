{
 "cells": [
  {
   "cell_type": "code",
   "execution_count": 63,
   "metadata": {
    "collapsed": false
   },
   "outputs": [],
   "source": [
    "import os\n",
    "import sys\n",
    "\n",
    "sys.path.append('../..')\n",
    "\n",
    "import numpy as np\n",
    "import pandas as pd\n",
    "import matplotlib.pyplot as plt\n",
    "import sklearn\n",
    "%matplotlib inline\n",
    "from IPython.core.interactiveshell import InteractiveShell\n",
    "InteractiveShell.ast_node_interactivity = \"all\"\n",
    "from sklearn.preprocessing import LabelEncoder\n",
    "from sklearn import preprocessing\n",
    "le = LabelEncoder()\n",
    "import IPython\n",
    "\n",
    "import scipy\n",
    "from scipy.io import wavfile\n",
    "from pylab import *\n",
    "orig_df = pd.read_hdf(\"../../data_extract/features_dataset_2b.h5\")\n",
    "from pymir import *"
   ]
  },
  {
   "cell_type": "code",
   "execution_count": 64,
   "metadata": {
    "collapsed": true
   },
   "outputs": [],
   "source": [
    "NUM_PEOPLE = 40\n",
    "df = orig_df.loc[orig_df['id']<NUM_PEOPLE]"
   ]
  },
  {
   "cell_type": "code",
   "execution_count": 65,
   "metadata": {
    "collapsed": false
   },
   "outputs": [],
   "source": [
    "p1 = df.loc[df['id']==0]\n",
    "p2 = df.loc[df['id']==1]\n",
    "chlist = [\"chroma{}\".format(i) for i in range(12)]"
   ]
  },
  {
   "cell_type": "code",
   "execution_count": 66,
   "metadata": {
    "collapsed": false,
    "scrolled": true
   },
   "outputs": [],
   "source": [
    "mean = np.mean(p1[chlist], axis = 0)\n",
    "var = np.var(p1[chlist], axis = 0)\n",
    "tmean = np.mean(p2[chlist], axis = 0)\n",
    "tvar = np.var(p2[chlist], axis = 0)"
   ]
  },
  {
   "cell_type": "code",
   "execution_count": 67,
   "metadata": {
    "collapsed": false
   },
   "outputs": [],
   "source": [
    "def modify_spectrum(spectrum, mean, var, tmean, tvar):\n",
    "    \n",
    "    chroma = [0] * 12\n",
    "    flist = list()\n",
    "    for index in range(0, len(spectrum)):\n",
    "        # Assign a frequency value to each bin\n",
    "        f = index * (spectrum.sampleRate / 2.0) / len(spectrum)\n",
    "        flist.append(f)\n",
    "        # Convert frequency to pitch to pitch class\n",
    "        if f != 0:\n",
    "            pitch = Pitch.frequencyToMidi(f)\n",
    "        else:\n",
    "            pitch = 0\n",
    "        pitchClass = pitch % 12\n",
    "        chroma[pitchClass] = chroma[pitchClass] + abs(spectrum[index])\n",
    "#         print(pitchClass , f)\n",
    "    \n",
    "    # Normalize the chroma vector\n",
    "    norm = sum(chroma)\n",
    "    chroma = [c / norm for c in chroma]\n",
    "    \n",
    "#     spectrum2 = np.array()\n",
    "    for index2 in range(0, len(spectrum)):\n",
    "        index = len(spectrum) - index2 - 1\n",
    "        # Assign a frequency value to each bin\n",
    "        f = index * (spectrum.sampleRate / 2.0) / len(spectrum)\n",
    "        # Convert frequency to pitch to pitch class\n",
    "        if f != 0:\n",
    "            pitch = Pitch.frequencyToMidi(f)\n",
    "        else:\n",
    "            pitch = 0\n",
    "        pitchClass = pitch % 12\n",
    "        wt = abs(spectrum[index]) / chroma[pitchClass]\n",
    "        wt = wt / norm\n",
    "        \n",
    "        ## Code for shifting frequency\n",
    "        shift = 500 #shift by (25441/8000)*500 Hz\n",
    "        if index > shift:\n",
    "            spectrum[index] = spectrum[index-shift]\n",
    "        else:\n",
    "            spectrum[index] = 0\n",
    "    return flist\n",
    "        ## Code for Chroma manipulation\n",
    "#         spectrum[index] = (spectrum[index] - wt*mean[pitchClass]) /( wt*var[pitchClass])\n",
    "#         spectrum[index] = (spectrum[index]*wt*tvar[pitchClass]) + wt*tmean[pitchClass]\n",
    "#         spectrum[index] = (spectrum[index] - wt*mean[pitchClass])\n",
    "#         spectrum[index] = spectrum[index] + (index * 0.0001)"
   ]
  },
  {
   "cell_type": "code",
   "execution_count": 68,
   "metadata": {
    "collapsed": false
   },
   "outputs": [],
   "source": [
    "filepath1 = \"../../data/dev-clean/\" + p1.iloc[0]['pid']+\"/\"+p1.iloc[0]['chname']+\"/\"+p1.iloc[100]['fname']\n",
    "targetvoice = \"../../data/dev-clean/\" + p2.iloc[0]['pid']+\"/\"+p2.iloc[0]['chname']+\"/\"+p2.iloc[100]['fname']\n",
    "outputpath = \"../../outputs/transformed_voice_demo.wav\"\n",
    "def modify():\n",
    "    print(filepath1)\n",
    "    adata = AudioFile.open(filepath1)\n",
    "\n",
    "    segments = adata.frames(2000000)\n",
    "        \n",
    "    spectra = [segment.spectrum() for segment in segments]\n",
    "    \n",
    "    plt.plot(spectra[0])\n",
    "    \n",
    "    for spectrum in spectra:\n",
    "        flist = modify_spectrum(spectrum, mean, var, tmean, tvar)\n",
    "   \n",
    "    plt.plot(spectra[0])\n",
    "    \n",
    "    plt.xticks([0,3000,6000,9000,12000,15000,18000,21000,24000],[0,1,2,3,4,5,6,7,8])\n",
    "    plt.xlabel(\"Frequency in KHz\")\n",
    "    plt.ylabel(\"Y(freq)\")\n",
    "    \n",
    "    \n",
    "    \n",
    "    fdata = np.array([item for spectrum in spectra for item in Transforms.ifft(spectrum)])\n",
    "    scaled = np.int16(fdata * 32767.0)\n",
    "    scipy.io.wavfile.write(outputpath, spectra[0].sampleRate, scaled)"
   ]
  },
  {
   "cell_type": "code",
   "execution_count": 69,
   "metadata": {
    "collapsed": false,
    "scrolled": false
   },
   "outputs": [
    {
     "name": "stdout",
     "output_type": "stream",
     "text": [
      "../../data/dev-clean/1272/135031/1272-135031-0011.wav\n"
     ]
    },
    {
     "data": {
      "image/png": "[encoded data removed]",
      "text/plain": [
       "<matplotlib.figure.Figure at 0x7fb27833d0d0>"
      ]
     },
     "metadata": {},
     "output_type": "display_data"
    }
   ],
   "source": [
    "modify()\n",
    "original_file = \"../../data/dev-clean/1272/135031/1272-135031-0011.wav\"\n",
    "pitch_shift_file = \"../../outputs/ps_output.wav\"\n",
    "freq_shift_file = \"../../outputs/fs_output.wav\"\n",
    "pshift_fshift_file = \"../../outputs/ps_fs_output.wav\""
   ]
  },
  {
   "cell_type": "code",
   "execution_count": 89,
   "metadata": {
    "collapsed": false
   },
   "outputs": [
    {
     "data": {
      "image/png": "[encoded data removed]",
      "text/plain": [
       "<matplotlib.figure.Figure at 0x7fb2792e3690>"
      ]
     },
     "metadata": {},
     "output_type": "display_data"
    }
   ],
   "source": [
    "def plotSpectru(y,Fs):\n",
    "    n = len(y) # lungime semnal\n",
    "    k = arange(n)\n",
    "    T = n/Fs\n",
    "    frq = k/T # two sides frequency range\n",
    "    frq = frq[range(n/2)] # one side frequency range\n",
    "\n",
    "    Y = fft(y)/n # fft computing and normalization\n",
    "    Y = Y[range(n/2)]\n",
    "\n",
    "    plot(frq,(Y),'r') # plotting the spectrum\n",
    "    xlabel('Freq (Hz)')\n",
    "    ylabel('|Y(freq)|')\n",
    "\n",
    "def plot_fre(filepath):\n",
    "    rate,data=wavfile.read(filepath)\n",
    "    y=data\n",
    "    lungime=len(y)\n",
    "    timp=len(y)/rate\n",
    "    t=linspace(0,timp,len(y))\n",
    "    \n",
    "    plt.figure(figsize=(7, 7))\n",
    "    subplot(2,1,2)\n",
    "    plt.title(\"Spectral Waveform - 150% Pitch Shift\");  \n",
    "    plotSpectru(y,rate)\n",
    "    show()\n",
    "    \n",
    "# plt.title(\"Original Spectral Waveform\")\n",
    "# plot_fre(original_file)\n",
    "pitch_shift_file = \"/home/anshul/data_science/Voice-Synthesizer/outputs/Voice_Generation/1 - Gender Based Transformation/ps_output_12_24.wav\"\n",
    "plot_fre(pitch_shift_file)\n"
   ]
  },
  {
   "cell_type": "code",
   "execution_count": null,
   "metadata": {
    "collapsed": true
   },
   "outputs": [],
   "source": []
  }
 ],
 "metadata": {
  "anaconda-cloud": {},
  "kernelspec": {
   "display_name": "Python [conda env:voice]",
   "language": "python",
   "name": "conda-env-voice-py"
  },
  "language_info": {
   "codemirror_mode": {
    "name": "ipython",
    "version": 2
   },
   "file_extension": ".py",
   "mimetype": "text/x-python",
   "name": "python",
   "nbconvert_exporter": "python",
   "pygments_lexer": "ipython2",
   "version": "2.7.13"
  }
 },
 "nbformat": 4,
 "nbformat_minor": 2
}
